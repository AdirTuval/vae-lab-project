{
 "cells": [
  {
   "cell_type": "code",
   "execution_count": 1,
   "metadata": {},
   "outputs": [],
   "source": [
    "import numpy as np\n",
    "import torch\n",
    "import torch.nn.functional as F\n",
    "import matplotlib.pyplot as plt\n",
    "from experiment import LightningVAE\n",
    "from models.vanilla_vae import VanillaVAE\n",
    "from metrics import mcc, cima_kl_diagonality\n",
    "import plotly.express as px\n",
    "from shapes_dataset_generator import ShapesDatasetGenerator\n",
    "from torch.func import jacrev, jacfwd, vmap\n",
    "from torch.autograd.functional import jacobian\n"
   ]
  },
  {
   "cell_type": "code",
   "execution_count": 2,
   "metadata": {},
   "outputs": [
    {
     "name": "stdout",
     "output_type": "stream",
     "text": [
      "Hidden dims:  [2, 4, 8, 16]\n"
     ]
    }
   ],
   "source": [
    "model = VanillaVAE(in_channels=3, latent_dim=2, hidden_dims=[2, 4, 8, 16])"
   ]
  },
  {
   "cell_type": "code",
   "execution_count": 3,
   "metadata": {},
   "outputs": [],
   "source": [
    "def f(x):\n",
    "    return model.decode(x).flatten()\n",
    "x = torch.randn(64, 2)\n",
    "\n",
    "jac = vmap(jacfwd(f))(x).mean(0)"
   ]
  },
  {
   "cell_type": "code",
   "execution_count": 5,
   "metadata": {},
   "outputs": [
    {
     "data": {
      "text/plain": [
       "tensor(0.0160, grad_fn=<MulBackward0>)"
      ]
     },
     "execution_count": 5,
     "metadata": {},
     "output_type": "execute_result"
    }
   ],
   "source": [
    "cima_kl_diagonality(jac)"
   ]
  }
 ],
 "metadata": {
  "kernelspec": {
   "display_name": "env",
   "language": "python",
   "name": "python3"
  },
  "language_info": {
   "codemirror_mode": {
    "name": "ipython",
    "version": 3
   },
   "file_extension": ".py",
   "mimetype": "text/x-python",
   "name": "python",
   "nbconvert_exporter": "python",
   "pygments_lexer": "ipython3",
   "version": "3.9.2"
  }
 },
 "nbformat": 4,
 "nbformat_minor": 2
}
