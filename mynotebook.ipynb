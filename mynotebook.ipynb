{
 "cells": [
  {
   "cell_type": "code",
   "execution_count": 72,
   "metadata": {},
   "outputs": [],
   "source": [
    "import numpy as np\n",
    "import torch\n",
    "import matplotlib.pyplot as plt\n",
    "from experiment import LightningVAE\n",
    "from metrics.mcc import mcc\n"
   ]
  },
  {
   "cell_type": "code",
   "execution_count": 50,
   "metadata": {},
   "outputs": [],
   "source": [
    "def draw_res(recons, input, latents, **kwargs):\n",
    "    fig, axs = plt.subplots(1, 2, figsize=(12, 4))\n",
    "    axs[0].imshow(input.squeeze().detach().cpu().permute(1,2,0).numpy())\n",
    "    axs[0].set_title(\"Input\")\n",
    "    axs[1].imshow(recons.squeeze().detach().cpu().permute(1,2,0).numpy())\n",
    "    axs[1].set_title(\"Reconstruction\")\n",
    "    print(latents)\n",
    "    plt.show()"
   ]
  },
  {
   "cell_type": "code",
   "execution_count": 62,
   "metadata": {},
   "outputs": [
    {
     "name": "stdout",
     "output_type": "stream",
     "text": [
      "Hidden dims:  [8, 16, 32, 64]\n"
     ]
    },
    {
     "data": {
      "text/plain": [
       "LightningVAE(\n",
       "  (model): VanillaVAE(\n",
       "    (encoder): Sequential(\n",
       "      (0): Sequential(\n",
       "        (0): Conv2d(3, 8, kernel_size=(3, 3), stride=(2, 2), padding=(1, 1))\n",
       "        (1): BatchNorm2d(8, eps=1e-05, momentum=0.1, affine=True, track_running_stats=True)\n",
       "        (2): LeakyReLU(negative_slope=0.01)\n",
       "      )\n",
       "      (1): Sequential(\n",
       "        (0): Conv2d(8, 16, kernel_size=(3, 3), stride=(2, 2), padding=(1, 1))\n",
       "        (1): BatchNorm2d(16, eps=1e-05, momentum=0.1, affine=True, track_running_stats=True)\n",
       "        (2): LeakyReLU(negative_slope=0.01)\n",
       "      )\n",
       "      (2): Sequential(\n",
       "        (0): Conv2d(16, 32, kernel_size=(3, 3), stride=(2, 2), padding=(1, 1))\n",
       "        (1): BatchNorm2d(32, eps=1e-05, momentum=0.1, affine=True, track_running_stats=True)\n",
       "        (2): LeakyReLU(negative_slope=0.01)\n",
       "      )\n",
       "      (3): Sequential(\n",
       "        (0): Conv2d(32, 64, kernel_size=(3, 3), stride=(2, 2), padding=(1, 1))\n",
       "        (1): BatchNorm2d(64, eps=1e-05, momentum=0.1, affine=True, track_running_stats=True)\n",
       "        (2): LeakyReLU(negative_slope=0.01)\n",
       "      )\n",
       "    )\n",
       "    (fc_mu): Linear(in_features=256, out_features=2, bias=True)\n",
       "    (fc_var): Linear(in_features=256, out_features=2, bias=True)\n",
       "    (decoder_input): Linear(in_features=2, out_features=256, bias=True)\n",
       "    (decoder): Sequential(\n",
       "      (0): Sequential(\n",
       "        (0): ConvTranspose2d(64, 32, kernel_size=(3, 3), stride=(2, 2), padding=(1, 1), output_padding=(1, 1))\n",
       "        (1): BatchNorm2d(32, eps=1e-05, momentum=0.1, affine=True, track_running_stats=True)\n",
       "        (2): LeakyReLU(negative_slope=0.01)\n",
       "      )\n",
       "      (1): Sequential(\n",
       "        (0): ConvTranspose2d(32, 16, kernel_size=(3, 3), stride=(2, 2), padding=(1, 1), output_padding=(1, 1))\n",
       "        (1): BatchNorm2d(16, eps=1e-05, momentum=0.1, affine=True, track_running_stats=True)\n",
       "        (2): LeakyReLU(negative_slope=0.01)\n",
       "      )\n",
       "      (2): Sequential(\n",
       "        (0): ConvTranspose2d(16, 8, kernel_size=(3, 3), stride=(2, 2), padding=(1, 1), output_padding=(1, 1))\n",
       "        (1): BatchNorm2d(8, eps=1e-05, momentum=0.1, affine=True, track_running_stats=True)\n",
       "        (2): LeakyReLU(negative_slope=0.01)\n",
       "      )\n",
       "    )\n",
       "    (final_layer): Sequential(\n",
       "      (0): ConvTranspose2d(8, 8, kernel_size=(3, 3), stride=(2, 2), padding=(1, 1), output_padding=(1, 1))\n",
       "      (1): BatchNorm2d(8, eps=1e-05, momentum=0.1, affine=True, track_running_stats=True)\n",
       "      (2): LeakyReLU(negative_slope=0.01)\n",
       "      (3): Conv2d(8, 3, kernel_size=(3, 3), stride=(1, 1), padding=(1, 1))\n",
       "      (4): Tanh()\n",
       "    )\n",
       "  )\n",
       ")"
      ]
     },
     "execution_count": 62,
     "metadata": {},
     "output_type": "execute_result"
    }
   ],
   "source": [
    "model = LightningVAE.load_from_checkpoint(\"/cs/labs/yweiss/adirt/lab_project/vae-lab-project/lightning_logs/h2sycu3v/checkpoints/epoch=99-step=12500.ckpt\")\n",
    "model.eval()\n"
   ]
  },
  {
   "cell_type": "code",
   "execution_count": 63,
   "metadata": {},
   "outputs": [],
   "source": [
    "shapes = np.load(\"data/shapes_32x32_10000.npy\")\n",
    "sources = np.load(\"data/sources_10000_d=2.npy\")"
   ]
  },
  {
   "cell_type": "code",
   "execution_count": 27,
   "metadata": {},
   "outputs": [
    {
     "name": "stdout",
     "output_type": "stream",
     "text": [
      "[0.2160397  0.11619051]\n"
     ]
    },
    {
     "data": {
      "image/png": "[encoded data removed]",
      "text/plain": [
       "<Figure size 640x480 with 1 Axes>"
      ]
     },
     "metadata": {},
     "output_type": "display_data"
    }
   ],
   "source": [
    "i = 9\n",
    "plt.imshow(shapes[i])\n",
    "print(sources[i])"
   ]
  },
  {
   "cell_type": "code",
   "execution_count": 64,
   "metadata": {},
   "outputs": [],
   "source": [
    "shapes[:64]\n",
    "im = torch.tensor(shapes[:64]).permute(0, 3, 1, 2).float() / 255.0\n",
    "res = model.model(im.to(model.device))\n",
    "# draw_res(**res)"
   ]
  },
  {
   "cell_type": "code",
   "execution_count": 83,
   "metadata": {},
   "outputs": [
    {
     "name": "stdout",
     "output_type": "stream",
     "text": [
      "(2, 64)\n",
      "(2, 64)\n"
     ]
    }
   ],
   "source": [
    "latents = res[\"latents\"].permute(1, 0).detach().cpu().numpy()\n",
    "sources = sources[:64].T\n",
    "print(latents.shape)\n",
    "print(sources.shape)"
   ]
  },
  {
   "cell_type": "code",
   "execution_count": 84,
   "metadata": {},
   "outputs": [],
   "source": [
    "curr_mcc, corr_sort, sort_idx, latents = mcc(latents, sources)\n",
    "# plt.scatter(latents[:, 1], sources[:, 0])"
   ]
  },
  {
   "cell_type": "code",
   "execution_count": 90,
   "metadata": {},
   "outputs": [
    {
     "data": {
      "text/plain": [
       "<matplotlib.collections.PathCollection at 0x7f49d2c31f40>"
      ]
     },
     "execution_count": 90,
     "metadata": {},
     "output_type": "execute_result"
    },
    {
     "data": {
      "image/png": "[encoded data removed]",
      "text/plain": [
       "<Figure size 640x480 with 1 Axes>"
      ]
     },
     "metadata": {},
     "output_type": "display_data"
    }
   ],
   "source": [
    "plt.scatter(latents[1, :], sources[1, :])"
   ]
  },
  {
   "cell_type": "code",
   "execution_count": 119,
   "metadata": {},
   "outputs": [
    {
     "data": {
      "text/plain": [
       "(2, 5)"
      ]
     },
     "execution_count": 119,
     "metadata": {},
     "output_type": "execute_result"
    }
   ],
   "source": [
    "t = np.random.randn(2, 2)\n",
    "a = np.random.randn(2, 3)\n",
    "\n",
    "# Stack them together\n",
    "b = np.hstack((t, a))\n",
    "b.shape"
   ]
  },
  {
   "cell_type": "code",
   "execution_count": 11,
   "metadata": {},
   "outputs": [
    {
     "data": {
      "image/png": "[encoded data removed]",
      "text/plain": [
       "<Figure size 1000x1000 with 100 Axes>"
      ]
     },
     "metadata": {},
     "output_type": "display_data"
    }
   ],
   "source": [
    "# Define the grid size\n",
    "grid_size = 10\n",
    "\n",
    "# Create a figure and axis\n",
    "fig, axes = plt.subplots(grid_size, grid_size, figsize=(10, 10))\n",
    "\n",
    "# Iterate through the images and plot them\n",
    "for i, ax in enumerate(axes.flat):\n",
    "    # If there are fewer images than grid cells, hide the remaining empty plots\n",
    "    if i < m.shape[0]:\n",
    "        ax.imshow(m[i])\n",
    "        ax.set_xticks([])\n",
    "        ax.set_yticks([])\n",
    "    else:\n",
    "        ax.axis('off')\n",
    "        ax.set_visible(False)\n",
    "\n",
    "plt.show()"
   ]
  },
  {
   "cell_type": "code",
   "execution_count": 3,
   "metadata": {},
   "outputs": [],
   "source": [
    "npx = np.random.rand(2, 3, 32, 32).astype(np.float32)\n",
    "x = torch.Tensor(npx)\n",
    "j = model(x)\n"
   ]
  },
  {
   "cell_type": "code",
   "execution_count": 15,
   "metadata": {},
   "outputs": [
    {
     "data": {
      "text/plain": [
       "array([[[-0.21055928,  0.04126837,  0.13222559],\n",
       "        [-0.24939789, -0.14848007, -0.10389824],\n",
       "        [-0.46378392, -0.2724796 ,  0.28930557],\n",
       "        ...,\n",
       "        [ 0.01129521, -0.06534824, -0.0836994 ],\n",
       "        [ 0.10690145, -0.12390669,  0.23714538],\n",
       "        [ 0.08895503, -0.0445008 , -0.0525538 ]],\n",
       "\n",
       "       [[-0.22361828,  0.23042154,  0.13246098],\n",
       "        [-0.2759644 ,  0.3332795 , -0.06351516],\n",
       "        [-0.45264253,  0.74151886, -0.36202615],\n",
       "        ...,\n",
       "        [-0.05208807,  0.14300722, -0.23552863],\n",
       "        [-0.10298625,  0.09435927, -0.14895596],\n",
       "        [-0.05585251, -0.11756548, -0.11724118]],\n",
       "\n",
       "       [[-0.34662598,  0.06921551, -0.00556397],\n",
       "        [ 0.1007173 ,  0.05595879,  0.38143772],\n",
       "        [ 0.11756782,  0.8814636 , -0.17857897],\n",
       "        ...,\n",
       "        [-0.02090594, -0.08075953,  0.18209253],\n",
       "        [-0.22592387,  0.1109147 ,  0.29263172],\n",
       "        [-0.12955087,  0.10874332, -0.06551334]],\n",
       "\n",
       "       ...,\n",
       "\n",
       "       [[-0.22262889,  0.08635124,  0.07197537],\n",
       "        [-0.11608787,  0.04124697, -0.02393288],\n",
       "        [-0.06456369,  0.33557677, -0.07745068],\n",
       "        ...,\n",
       "        [ 0.05226046, -0.05041126,  0.037829  ],\n",
       "        [-0.08298732,  0.23568444, -0.12232544],\n",
       "        [-0.08191255,  0.01469132, -0.04276278]],\n",
       "\n",
       "       [[-0.14635018,  0.20975046,  0.09467869],\n",
       "        [ 0.07259075, -0.11796451,  0.31184375],\n",
       "        [-0.02695983,  0.08574784,  0.1141743 ],\n",
       "        ...,\n",
       "        [ 0.12813298,  0.08480962, -0.16792351],\n",
       "        [-0.05688553, -0.22157754,  0.10789116],\n",
       "        [ 0.01522384, -0.04047892, -0.06366363]],\n",
       "\n",
       "       [[-0.09819369, -0.02522749,  0.0766372 ],\n",
       "        [ 0.11559071,  0.08074739,  0.09966131],\n",
       "        [ 0.29909733, -0.01316861, -0.03056428],\n",
       "        ...,\n",
       "        [-0.08702867,  0.164414  , -0.00465953],\n",
       "        [ 0.20886546, -0.04505768,  0.19656193],\n",
       "        [-0.02481528,  0.07790728, -0.10576759]]], dtype=float32)"
      ]
     },
     "execution_count": 15,
     "metadata": {},
     "output_type": "execute_result"
    }
   ],
   "source": [
    "# j[0][0].detach().numpy().transpose(1, 2, 0)\n",
    "plt.imshow(j[0][0].detach().numpy().transpose(1, 2, 0))"
   ]
  }
 ],
 "metadata": {
  "kernelspec": {
   "display_name": "env",
   "language": "python",
   "name": "python3"
  },
  "language_info": {
   "codemirror_mode": {
    "name": "ipython",
    "version": 3
   },
   "file_extension": ".py",
   "mimetype": "text/x-python",
   "name": "python",
   "nbconvert_exporter": "python",
   "pygments_lexer": "ipython3",
   "version": "3.9.2"
  }
 },
 "nbformat": 4,
 "nbformat_minor": 2
}
